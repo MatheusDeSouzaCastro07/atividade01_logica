{
  "nbformat": 4,
  "nbformat_minor": 0,
  "metadata": {
    "colab": {
      "provenance": [],
      "authorship_tag": "ABX9TyNbsfYjmUeRNFRPeNlZYwDX",
      "include_colab_link": true
    },
    "kernelspec": {
      "name": "python3",
      "display_name": "Python 3"
    },
    "language_info": {
      "name": "python"
    }
  },
  "cells": [
    {
      "cell_type": "markdown",
      "metadata": {
        "id": "view-in-github",
        "colab_type": "text"
      },
      "source": [
        "<a href=\"https://colab.research.google.com/github/MatheusDeSouzaCastro07/atividade01_logica/blob/main/prova_logica_.ipynb\" target=\"_parent\"><img src=\"https://colab.research.google.com/assets/colab-badge.svg\" alt=\"Open In Colab\"/></a>"
      ]
    },
    {
      "cell_type": "code",
      "execution_count": null,
      "metadata": {
        "id": "Wu00ZYKKf4lW",
        "colab": {
          "base_uri": "https://localhost:8080/"
        },
        "outputId": "bec7494e-ed3c-426c-b35f-3c74a7103484"
      },
      "outputs": [
        {
          "output_type": "stream",
          "name": "stdout",
          "text": [
            "Digite um número inteiro: 8\n",
            "Digite um número inteito: 2\n",
            "Digite um número inteiro: 4\n",
            "Números em ordem crescente: 2 4 8\n"
          ]
        }
      ],
      "source": [
        " # 1° Questão\n",
        "\n",
        "num1 = int(input(\"Digite um número inteiro: \"))\n",
        "num2 = int(input(\"Digite um número inteito: \"))\n",
        "num3 = int(input(\"Digite um número inteiro: \"))\n",
        "numeros = [num1, num2, num3]\n",
        "numeros.sort()\n",
        "\n",
        "print(\"Números em ordem crescente:\", numeros[0], numeros[1], numeros[2])"
      ]
    },
    {
      "cell_type": "code",
      "source": [
        "# 2º Questão\n",
        "\n",
        "for i in range(100):\n",
        "    print(i, end=', ')"
      ],
      "metadata": {
        "id": "9_IoRqKGg-3F",
        "colab": {
          "base_uri": "https://localhost:8080/"
        },
        "outputId": "af257ed7-020e-46c3-f845-1a2e84d7f75d"
      },
      "execution_count": null,
      "outputs": [
        {
          "output_type": "stream",
          "name": "stdout",
          "text": [
            "0, 1, 2, 3, 4, 5, 6, 7, 8, 9, 10, 11, 12, 13, 14, 15, 16, 17, 18, 19, 20, 21, 22, 23, 24, 25, 26, 27, 28, 29, 30, 31, 32, 33, 34, 35, 36, 37, 38, 39, 40, 41, 42, 43, 44, 45, 46, 47, 48, 49, 50, 51, 52, 53, 54, 55, 56, 57, 58, 59, 60, 61, 62, 63, 64, 65, 66, 67, 68, 69, 70, 71, 72, 73, 74, 75, 76, 77, 78, 79, 80, 81, 82, 83, 84, 85, 86, 87, 88, 89, 90, 91, 92, 93, 94, 95, 96, 97, 98, 99, "
          ]
        }
      ]
    },
    {
      "cell_type": "code",
      "source": [
        "# 3° Questão\n",
        "\n",
        "nome = input(\"Digite o seu nome: \")\n",
        "\n",
        "def exibir():\n",
        "    if len(nome) >= 120:\n",
        "       print(\"Digite um nome com menos de 120 caracteres!\")\n",
        "       return #retorna/cancela a função\n",
        "    print(f\"Seja muito bem-vindo,{nome}!\")\n",
        "exibir()"
      ],
      "metadata": {
        "id": "fdWjG06Ao0lc",
        "colab": {
          "base_uri": "https://localhost:8080/"
        },
        "outputId": "efd063d1-32e1-4d83-b273-82415e7ed188"
      },
      "execution_count": null,
      "outputs": [
        {
          "output_type": "stream",
          "name": "stdout",
          "text": [
            "Digite o seu nome: Fulano de tal\n",
            "Seja muito bem-vindo,Fulano de tal!\n"
          ]
        }
      ]
    },
    {
      "cell_type": "code",
      "source": [
        "# 4° Questão\n",
        "\n",
        "def verificaçao_do_numero(n):\n",
        "    if n <= 0:\n",
        "        return \"O número não é primo\"\n",
        "    for i in range(2, int(n ** 0.5 + 1)):\n",
        "        if n % i == 0:\n",
        "            return \"O número não é primo\"\n",
        "            break\n",
        "    return \"O número primo\"\n",
        "\n",
        "numero = int(input(\"digite um número: \"))\n",
        "print(verificaçao_do_numero(numero))"
      ],
      "metadata": {
        "id": "cQXr_lt9jRQQ",
        "colab": {
          "base_uri": "https://localhost:8080/"
        },
        "outputId": "c7b3b00a-f465-418e-b52b-1c5b5d122ca2"
      },
      "execution_count": null,
      "outputs": [
        {
          "output_type": "stream",
          "name": "stdout",
          "text": [
            "digite um número: 10\n",
            "O número não é primo\n"
          ]
        }
      ]
    },
    {
      "cell_type": "code",
      "source": [
        "# 5° Questão\n",
        "\n",
        "alunos = int(input(\"Quantos alunos tem na escola? \"))\n",
        "notas = []\n",
        "def escola (n):\n",
        "    if alunos > 20000:\n",
        "        return \"O número de alunos precisa ser menor que 20000\"\n",
        "    else:\n",
        "        for i in range(n):\n",
        "            nota_do_aluno = float(input(f\"digite a nota do aluno {i + 1}: \"))\n",
        "            notas.append(nota_do_aluno)\n",
        "        media = sum(notas)/alunos\n",
        "        media = sum(notas) / n\n",
        "        limite_superior = media * 1.10\n",
        "        limite_inferior = media * 0.90\n",
        "        acima_10 = sum(1 for nota in notas if nota > limite_superior)\n",
        "        abaixo_10 = sum(1 for nota in notas if nota < limite_inferior)\n",
        "        print(f\"Média: {media:.2f}\")\n",
        "        print(\"Números de alunos com as notas 10% acima da média:\", acima_10)\n",
        "        print(\"Números de alunos com as notas 10% abaixo da média:\", abaixo_10)\n",
        "\n",
        "escola(alunos)"
      ],
      "metadata": {
        "id": "_ZxzWxNDi_kE",
        "colab": {
          "base_uri": "https://localhost:8080/"
        },
        "outputId": "5b9a664a-a991-454a-ba89-add9c5afeb00"
      },
      "execution_count": null,
      "outputs": [
        {
          "output_type": "stream",
          "name": "stdout",
          "text": [
            "Quantos alunos tem na escola? 4\n",
            "digite a nota do aluno 1: 7\n",
            "digite a nota do aluno 2: 6\n",
            "digite a nota do aluno 3: 8\n",
            "digite a nota do aluno 4: 5\n",
            "Média: 6.50\n",
            "Números de alunos com as notas 10% acima da média: 1\n",
            "Números de alunos com as notas 10% abaixo da média: 1\n"
          ]
        }
      ]
    },
    {
      "cell_type": "code",
      "source": [
        "# 6° Questão\n",
        "\n",
        "texto = input (\"Digite o texto que queria inverte: \")\n",
        "texto_invertido = texto [::-1]\n",
        "print(\"Texto invertido:\", texto_invertido)"
      ],
      "metadata": {
        "id": "F7KbGkb9mW8x",
        "colab": {
          "base_uri": "https://localhost:8080/"
        },
        "outputId": "990ae546-3059-4aee-fda4-fa9ae1d2328c"
      },
      "execution_count": null,
      "outputs": [
        {
          "output_type": "stream",
          "name": "stdout",
          "text": [
            "Digite o texto que queria inverte: maracatu\n",
            "Texto invertido: utacaram\n"
          ]
        }
      ]
    },
    {
      "cell_type": "code",
      "execution_count": null,
      "metadata": {
        "id": "SU2cJf6HDsi5",
        "colab": {
          "base_uri": "https://localhost:8080/"
        },
        "outputId": "c34689d8-8a18-4b8e-f464-f0a16556f47c"
      },
      "outputs": [
        {
          "output_type": "stream",
          "name": "stdout",
          "text": [
            "Digite a palavra ou frase: frasco\n",
            "Digite o carectere que deseja substituir: r\n",
            "Digite o carectere pelo qual deseja substituir: l\n",
            "texto alterado: flasco\n"
          ]
        }
      ],
      "source": [
        "# 7° Questão\n",
        "\n",
        "texto = input(\"Digite a palavra ou frase: \")\n",
        "caractere_original = input(\"Digite o carectere que deseja substituir: \")\n",
        "caractere_substituto = input(\"Digite o carectere pelo qual deseja substituir: \")\n",
        "texto_modificado = texto.replace(caractere_original, caractere_substituto)\n",
        "print(\"texto alterado:\", texto_modificado)"
      ]
    },
    {
      "cell_type": "code",
      "execution_count": null,
      "metadata": {
        "id": "RK17HLYKVZeu",
        "colab": {
          "base_uri": "https://localhost:8080/"
        },
        "outputId": "e8bbb936-7d5b-46fe-eb98-6559e9a61f01"
      },
      "outputs": [
        {
          "output_type": "stream",
          "name": "stdout",
          "text": [
            "Coloque a palavra para identificação de índice: melancia\n",
            "coloque o caractere que deseja achar o indice: c\n",
            "local do indice:  5\n"
          ]
        }
      ],
      "source": [
        "# 8° Questão\n",
        "\n",
        "texto = input(\"Coloque a palavra para identificação de índice: \")\n",
        "caractere = input(\"coloque o caractere que deseja achar o indice: \")\n",
        "indice = texto.find(caractere)\n",
        "print(\"local do indice: \",indice)"
      ]
    },
    {
      "cell_type": "code",
      "execution_count": null,
      "metadata": {
        "colab": {
          "base_uri": "https://localhost:8080/"
        },
        "id": "0IOxwlIVfeEA",
        "outputId": "7c945241-6404-44ec-a25a-7a4ecb66ff72"
      },
      "outputs": [
        {
          "output_type": "stream",
          "name": "stdout",
          "text": [
            "insira o primeiro valor: 55\n",
            "insira o segundo valor: 15\n",
            "17 18 22 23 27 28 32 33 37 38 42 43 47 48 52 53 "
          ]
        }
      ],
      "source": [
        "# 9° Questão\n",
        "x = int(input('insira o primeiro valor: '))\n",
        "y = int(input('insira o segundo valor: '))\n",
        "menor = min(x, y)\n",
        "maior = max(x, y)\n",
        "for i in range(menor + 1, maior + 1):\n",
        "    if i % 5 == 2 or i % 5 == 3:\n",
        "        print(i, end=\" \")\n"
      ]
    },
    {
      "cell_type": "code",
      "source": [
        "# 10° Questão\n",
        "\n",
        "n = int(input(\"Quantos números deseja digitar? \"))\n",
        "numeros = []\n",
        "for i in range(n):\n",
        "    numero = int(input(f\"Digite o {i+1}° número: \"))\n",
        "    numeros.append(numero)\n",
        "print(\"\\na) Números em ordem inversa: \")\n",
        "for numero in reversed(numeros):\n",
        "    print(numero, end= ' ')\n",
        "print(\"\\n\\nb) Números em ordem crescente: \")\n",
        "for numero in sorted(numeros, reverse=True):\n",
        "    print(numero, end=' ')"
      ],
      "metadata": {
        "colab": {
          "base_uri": "https://localhost:8080/"
        },
        "id": "7Y0xovsebFV6",
        "outputId": "2ec0af5c-4fc3-4b93-a8d1-84531a398e5d"
      },
      "execution_count": null,
      "outputs": [
        {
          "output_type": "stream",
          "name": "stdout",
          "text": [
            "Quantos números deseja digitar? 3\n",
            "Digite o 1° número: 748\n",
            "Digite o 2° número: -387\n",
            "Digite o 3° número: 37\n",
            "\n",
            "a) Números em ordem inversa: \n",
            "37 -387 748 \n",
            "\n",
            "b) Números em ordem crescente: \n",
            "748 37 -387 "
          ]
        }
      ]
    }
  ]
}